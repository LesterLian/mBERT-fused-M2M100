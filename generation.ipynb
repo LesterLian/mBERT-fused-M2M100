{
  "nbformat": 4,
  "nbformat_minor": 0,
  "metadata": {
    "colab": {
      "name": "828I_Multilingual_Fused_Project.ipynb",
      "provenance": [],
      "collapsed_sections": [],
      "include_colab_link": true
    },
    "kernelspec": {
      "name": "python3",
      "display_name": "Python 3"
    },
    "language_info": {
      "name": "python"
    }
  },
  "cells": [
    {
      "cell_type": "markdown",
      "metadata": {
        "id": "view-in-github",
        "colab_type": "text"
      },
      "source": [
        "<a href=\"https://colab.research.google.com/github/LesterLian/mBERT-fused-M2M100/blob/main/generation.ipynb\" target=\"_parent\"><img src=\"https://colab.research.google.com/assets/colab-badge.svg\" alt=\"Open In Colab\"/></a>"
      ]
    },
    {
      "cell_type": "code",
      "metadata": {
        "id": "Sx8ah8piU3n1",
        "outputId": "18b1896a-68c8-4d8b-b727-bd732b6a1602",
        "colab": {
          "base_uri": "https://localhost:8080/"
        }
      },
      "source": [
        "# It is recommended to save the models directly on google drive to avoid any data loss during connectivity issues. \n",
        "from google.colab import drive\n",
        "drive.mount('/content/drive')"
      ],
      "execution_count": 1,
      "outputs": [
        {
          "output_type": "stream",
          "text": [
            "Drive already mounted at /content/drive; to attempt to forcibly remount, call drive.mount(\"/content/drive\", force_remount=True).\n"
          ],
          "name": "stdout"
        }
      ]
    },
    {
      "cell_type": "code",
      "metadata": {
        "id": "MufjjLniU_UX",
        "outputId": "8c90d0cc-351d-4048-a19e-0349aae98df4",
        "colab": {
          "base_uri": "https://localhost:8080/"
        }
      },
      "source": [
        "! mkdir -p /content/drive/MyDrive/Multilingual_Project\n",
        "% cd /content/drive/MyDrive/Multilingual_Project"
      ],
      "execution_count": 2,
      "outputs": [
        {
          "output_type": "stream",
          "text": [
            "/content/drive/MyDrive/Multilingual_Project\n"
          ],
          "name": "stdout"
        }
      ]
    },
    {
      "cell_type": "code",
      "metadata": {
        "id": "6zN5nFVwQTaZ"
      },
      "source": [
        "# Prepare modified transformers\n",
        "# ! wget https://github.com/huggingface/transformers/archive/refs/tags/v4.4.2.zip\n",
        "# ! unzip v4.4.2.zip\n",
        "# ! cp -rf transformers-4.4.2/src/transformers/ ./\n",
        "# ! git clone https://github.com/LesterLian/mBERT-fused-M2M100.git\n",
        "# ! cp -rf mBERT-fused-M2M100/transformers/* ./transformers/\n",
        "! rm -rf transformers-4.4.2 v4.4.2.zip mBERT-fused-M2M100"
      ],
      "execution_count": 3,
      "outputs": []
    },
    {
      "cell_type": "code",
      "metadata": {
        "id": "4dennQSBSLUI"
      },
      "source": [
        "#Transformers and sentencepiece are installed\n",
        "!pip install transformers\n",
        "!pip install sentencepiece"
      ],
      "execution_count": null,
      "outputs": []
    },
    {
      "cell_type": "code",
      "metadata": {
        "id": "0qrJloqHSvsl"
      },
      "source": [
        "# Fused Model Definition\n",
        "from transformers import M2M100ForConditionalGeneration, M2M100Model, M2M100Tokenizer, BertModel, BertTokenizer\n",
        "\n",
        "class FusedM2M(M2M100ForConditionalGeneration):\n",
        "    def __init__(self, bert: BertModel, m2m: M2M100Model, path: str = None, bert_input=None):\n",
        "        super().__init__(m2m.config)\n",
        "        self.bert = bert\n",
        "        self.m2m = m2m\n",
        "        self.model = m2m.model\n",
        "        self.base_model = m2m.base_model\n",
        "        self.fuse_layer_path = path\n",
        "        self.bert_input = bert_input\n",
        "\n",
        "        if self.bert_input:\n",
        "            # Get BERT embedding\n",
        "            bert_output = self.bert(**bert_input).last_hidden_state\n",
        "            # Get BERT attention outputs\n",
        "            attention_outputs = self.bert(**bert_input, embedding_input=bert_output).attention_outputs\n",
        "            # Pass in BERT attention outputs to M2M layers\n",
        "            for i in range(len(attention_outputs)):\n",
        "                self.m2m.model.encoder.layers[i].bert_attention_output = attention_outputs[i]\n",
        "            # Load fuse layer\n",
        "            if self.fuse_layer_path:\n",
        "                m2m.load_state_dict(torch.load(self.fuse_layer_path))\n",
        "\n",
        "    def forward(self, *input, **kwargs):\n",
        "        return self.m2m(*input, **kwargs)\n"
      ],
      "execution_count": 5,
      "outputs": []
    },
    {
      "cell_type": "code",
      "metadata": {
        "colab": {
          "base_uri": "https://localhost:8080/"
        },
        "id": "mp4M8ed-DP7D",
        "outputId": "21907898-a880-4eba-d4fb-6d68f11e5508"
      },
      "source": [
        "#Tutorial of generation on fused BERT and M2M-100\n",
        "\n",
        "hi_text = \"जीवन एक चॉकलेट बॉक्स की तरह है।\"\n",
        "zh_text = \"生活就像一盒巧克力。\"\n",
        "print('original sentence:')\n",
        "print(hi_text)\n",
        "print(zh_text)\n",
        "\n",
        "m2m = M2M100ForConditionalGeneration.from_pretrained(\"facebook/m2m100_418M\")\n",
        "m2m_tokenizer = M2M100Tokenizer.from_pretrained(\"facebook/m2m100_418M\")\n",
        "\n",
        "# translate Chinese to English\n",
        "\n",
        "m2m_tokenizer.src_lang = \"zh\"\n",
        "m2m_input = m2m_tokenizer(zh_text, return_tensors=\"pt\")\n",
        "\n",
        "generated_tokens = m2m.generate(**m2m_input, forced_bos_token_id=m2m_tokenizer.get_lang_id(\"en\"))\n",
        "print('M2M result:')\n",
        "print(m2m_tokenizer.batch_decode(generated_tokens, skip_special_tokens=True))\n",
        "# print([m2m_tokenizer.decoder[int(id)] if int(id) in m2m_tokenizer.decoder else m2m_tokenizer.id_to_lang_token[int(id)]\n",
        "#        for id in m2m_input.data['input_ids'][0]])\n",
        "\n",
        "bert_type = 'bert-base-multilingual-cased'  # 'bert-base-multilingual-cased' or 'bert-large-multilingual-cased'\n",
        "bert_tokenizer = BertTokenizer.from_pretrained(bert_type)\n",
        "bert = BertModel.from_pretrained(bert_type)\n",
        "bert_input = bert_tokenizer(zh_text, return_tensors='pt')\n",
        "\n",
        "# output = bert(**encoded_input)\n",
        "# print([bert_tokenizer.ids_to_tokens[int(id)] for id in bert_input.data['input_ids'][0]])\n",
        "\n",
        "# Fused model generation\n",
        "fused_model = FusedM2M(bert, m2m, bert_input=bert_input)\n",
        "generated_tokens = fused_model.generate(**m2m_input, forced_bos_token_id=m2m_tokenizer.get_lang_id(\"en\"))\n",
        "print('Fused model result:')\n",
        "print(m2m_tokenizer.batch_decode(generated_tokens, skip_special_tokens=True))"
      ],
      "execution_count": 6,
      "outputs": [
        {
          "output_type": "stream",
          "text": [
            "original sentence:\n",
            "जीवन एक चॉकलेट बॉक्स की तरह है।\n",
            "生活就像一盒巧克力。\n"
          ],
          "name": "stdout"
        },
        {
          "output_type": "stream",
          "text": [
            "Some weights of M2M100ForConditionalGeneration were not initialized from the model checkpoint at facebook/m2m100_418M and are newly initialized: ['model.encoder.layers.0.fuse_layer.weight', 'model.encoder.layers.0.fuse_layer.bias', 'model.encoder.layers.1.fuse_layer.weight', 'model.encoder.layers.1.fuse_layer.bias', 'model.encoder.layers.2.fuse_layer.weight', 'model.encoder.layers.2.fuse_layer.bias', 'model.encoder.layers.3.fuse_layer.weight', 'model.encoder.layers.3.fuse_layer.bias', 'model.encoder.layers.4.fuse_layer.weight', 'model.encoder.layers.4.fuse_layer.bias', 'model.encoder.layers.5.fuse_layer.weight', 'model.encoder.layers.5.fuse_layer.bias', 'model.encoder.layers.6.fuse_layer.weight', 'model.encoder.layers.6.fuse_layer.bias', 'model.encoder.layers.7.fuse_layer.weight', 'model.encoder.layers.7.fuse_layer.bias', 'model.encoder.layers.8.fuse_layer.weight', 'model.encoder.layers.8.fuse_layer.bias', 'model.encoder.layers.9.fuse_layer.weight', 'model.encoder.layers.9.fuse_layer.bias', 'model.encoder.layers.10.fuse_layer.weight', 'model.encoder.layers.10.fuse_layer.bias', 'model.encoder.layers.11.fuse_layer.weight', 'model.encoder.layers.11.fuse_layer.bias']\n",
            "You should probably TRAIN this model on a down-stream task to be able to use it for predictions and inference.\n"
          ],
          "name": "stderr"
        },
        {
          "output_type": "stream",
          "text": [
            "M2M result:\n",
            "['Life is like a box of chocolate.']\n",
            "Fused model result:\n",
            "['Life is like a box of chocolate.']\n"
          ],
          "name": "stdout"
        }
      ]
    }
  ]
}